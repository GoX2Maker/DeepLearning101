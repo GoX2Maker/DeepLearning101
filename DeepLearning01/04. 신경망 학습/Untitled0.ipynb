{
  "cells": [
    {
      "cell_type": "code",
      "execution_count": 1,
      "metadata": {
        "id": "9e8nVCj6Fc8-"
      },
      "outputs": [],
      "source": [
        "import numpy as np"
      ]
    },
    {
      "cell_type": "code",
      "execution_count": 2,
      "metadata": {
        "id": "5l9vGmLiFf5p"
      },
      "outputs": [],
      "source": [
        "def SSE(y, t):\n",
        " return 0.5 * np.sum((y - t) ** 2)"
      ]
    },
    {
      "cell_type": "code",
      "execution_count": 3,
      "metadata": {
        "id": "8sKIcYJkFz79"
      },
      "outputs": [],
      "source": [
        "def CEE(y,t):\n",
        "  delta = 1e-7 # y가 0일 때 log가 무한이 되는 것을 방지\n",
        "  return -np.sum(t * np.log(y + delta))"
      ]
    },
    {
      "cell_type": "code",
      "execution_count": 4,
      "metadata": {
        "colab": {
          "base_uri": "https://localhost:8080/"
        },
        "id": "hVT1BJvvLwjl",
        "outputId": "e990d851-e825-4e57-fc74-28d388e74262"
      },
      "outputs": [
        {
          "name": "stdout",
          "output_type": "stream",
          "text": [
            "(2, 1)\n",
            "2\n",
            "(4, 1)\n",
            "2\n"
          ]
        }
      ],
      "source": [
        "t = np.array([1])\n",
        "a = np.array([[1],[1]])\n",
        "print(a.shape)\n",
        "print(a.ndim)\n",
        "\n",
        "a = np.array([[1],[1],[1],[1]])\n",
        "print(a.shape)\n",
        "print(a.ndim)"
      ]
    },
    {
      "cell_type": "code",
      "execution_count": 5,
      "metadata": {
        "colab": {
          "base_uri": "https://localhost:8080/"
        },
        "id": "GPwWVOBnMLPw",
        "outputId": "b5be9ca5-82c2-4a16-a49b-ac3f1cc3bcb5"
      },
      "outputs": [
        {
          "name": "stdout",
          "output_type": "stream",
          "text": [
            "(1,)\n",
            "1\n",
            "(1, 1)\n",
            "2\n"
          ]
        }
      ],
      "source": [
        "print(t.shape) # (1,)\n",
        "print(t.ndim)  # 1\n",
        "t = t.reshape(-1, 1)\n",
        "print(t.shape) # (1,1)\n",
        "print(t.ndim)  # 2\n"
      ]
    },
    {
      "cell_type": "code",
      "execution_count": 6,
      "metadata": {
        "id": "tb5qWHBnJajk"
      },
      "outputs": [],
      "source": [
        "# 미니배치용\n",
        "def CEE(y,t):\n",
        "  delta = 1e-7 # y가 0일 때 log가 무한이 되는 것을 방지\n",
        "  if y.ndim == 1:\n",
        "    # 데이터가 1장일 때(차원이 1차원 일 때)\n",
        "    t = t.reshape(1,t.size)\n",
        "    y = y.reshape(1,y.size)\n",
        "\n",
        "  batch_size = y.shape[0]\n",
        "  return -np.sum(t * np.log(y + delta)) / batch_size\n",
        "\n"
      ]
    },
    {
      "cell_type": "code",
      "execution_count": 7,
      "metadata": {
        "id": "hBnBtTfzNINz"
      },
      "outputs": [],
      "source": [
        "# 원 핫 인코딩\n",
        "def CEE(y,t):\n",
        "  delta = 1e-7 # y가 0일 때 log가 무한이 되는 것을 방지\n",
        "  if y.ndim == 1:\n",
        "    # 데이터가 1장일 때(차원이 1차원 일 때)\n",
        "    t = t.reshape(1,t.size)\n",
        "    y = y.reshape(1,y.size)\n",
        "\n",
        "  batch_size = y.shape[0]\n",
        "  return -np.sum(t * np.log(y[np.arange(batch_size),t] + delta)) / batch_size\n"
      ]
    },
    {
      "cell_type": "code",
      "execution_count": 8,
      "metadata": {
        "id": "pLvwwPDgQlCj"
      },
      "outputs": [],
      "source": [
        "def numerical_diff(f,x):\n",
        "  h = 1e-4 #컴퓨터에서 이 정도 작은 값을 이용해야 미분을 할 수 있다.\n",
        "  return (f(x+h) - f(x-h)) / 2*h"
      ]
    },
    {
      "cell_type": "code",
      "execution_count": 9,
      "metadata": {
        "colab": {
          "base_uri": "https://localhost:8080/",
          "height": 466
        },
        "id": "QiJmXdK9RA3d",
        "outputId": "84388365-240a-482f-8e94-49cee245e78c"
      },
      "outputs": [
        {
          "data": {
            "image/png": "[encoded data removed]",
            "text/plain": [
              "<Figure size 640x480 with 1 Axes>"
            ]
          },
          "metadata": {},
          "output_type": "display_data"
        },
        {
          "name": "stdout",
          "output_type": "stream",
          "text": [
            "1.9999999999908982e-09\n",
            "2.999999999986347e-09\n"
          ]
        }
      ],
      "source": [
        "import matplotlib.pyplot as plt\n",
        "\n",
        "def fucntion(x):\n",
        "  return 0.01*x**2 + 0.1*x\n",
        "\n",
        "x = np.arange(0.0, 20.0, 0.1)\n",
        "y = fucntion(x)\n",
        "\n",
        "plt.plot(y,x)\n",
        "plt.show()\n",
        "\n",
        "print(numerical_diff(fucntion,5))\n",
        "print(numerical_diff(fucntion,10))"
      ]
    },
    {
      "cell_type": "code",
      "execution_count": 10,
      "metadata": {
        "colab": {
          "base_uri": "https://localhost:8080/"
        },
        "id": "EFAzWI6vRTO-",
        "outputId": "6a37192c-bcbc-45d1-c02c-5ed6fd54348e"
      },
      "outputs": [
        {
          "name": "stdout",
          "output_type": "stream",
          "text": [
            "[6. 8.]\n",
            "[0. 4.]\n",
            "[6. 0.]\n"
          ]
        }
      ],
      "source": [
        "def fucntion2(x):\n",
        "  return x[0]**2 + x[1]**2\n",
        "\n",
        "def numerical_grad(f, x):\n",
        "  h = 1e-4\n",
        "  grad = np.zeros_like(x)\n",
        "\n",
        "  for i in range(x.size):\n",
        "    temp = x[i]\n",
        "    x[i] = temp + h\n",
        "    fxh1 = f(x)\n",
        "\n",
        "\n",
        "    x[i] = temp - h\n",
        "    fxh2 = f(x)\n",
        "\n",
        "    grad[i] = (fxh1 - fxh2) / (2*h)\n",
        "    x[i] = temp\n",
        "\n",
        "  return grad\n",
        "\n",
        "print(numerical_grad(fucntion2, np.array([3.0,4.0])))\n",
        "print(numerical_grad(fucntion2, np.array([0.0,2.0])))\n",
        "print(numerical_grad(fucntion2, np.array([3.0,0.0])))"
      ]
    },
    {
      "cell_type": "code",
      "execution_count": 11,
      "metadata": {
        "id": "5Ckx_hhpUlwx"
      },
      "outputs": [],
      "source": [
        "def gradient_descent(f, init_x, lr = 0.01, step_num = 100):\n",
        "  x = init_x\n",
        "\n",
        "  for i in range(step_num):\n",
        "    grad = numerical_grad(f,x)\n",
        "    x -= lr * grad\n",
        "\n",
        "  return x"
      ]
    },
    {
      "cell_type": "code",
      "execution_count": 12,
      "metadata": {
        "colab": {
          "base_uri": "https://localhost:8080/"
        },
        "id": "xIqDFEIbNvue",
        "outputId": "b216df6e-8e69-4bd5-d77d-f3cfd1a626d5"
      },
      "outputs": [
        {
          "data": {
            "text/plain": [
              "array([-6.11110793e-10,  8.14814391e-10])"
            ]
          },
          "execution_count": 12,
          "metadata": {},
          "output_type": "execute_result"
        }
      ],
      "source": [
        "def fucntion2(x):\n",
        "  return x[0]**2 + x[1]**2\n",
        "\n",
        "x = np.array([-3.0,4.0])\n",
        "gradient_descent(fucntion2, x, 0.1, 100)"
      ]
    },
    {
      "cell_type": "code",
      "execution_count": 2,
      "metadata": {
        "colab": {
          "base_uri": "https://localhost:8080/",
          "height": 322
        },
        "id": "1knaeby7OF7p",
        "outputId": "7649c7c9-dcec-4acf-ccaf-6d430ef30019"
      },
      "outputs": [],
      "source": [
        "import sys, os\n",
        "sys.path.append(os.pardir)\n",
        "from common.functions import *\n",
        "\n",
        "from common.gradient import numerical_gradient\n",
        "from common.functions import *\n",
        "import numpy as np"
      ]
    },
    {
      "cell_type": "code",
      "execution_count": 6,
      "metadata": {
        "id": "rdyqVOZUPz9W"
      },
      "outputs": [],
      "source": [
        "class TwoLayerNet:\n",
        "    def __init__(self, input_size, hidden_size, output_size, weight_init_std = 0.01) -> None:\n",
        "        self.params = {}\n",
        "        self.params['W1'] = weight_init_std * np.random.randn(input_size, hidden_size)\n",
        "        self.params['b1'] = np.zeros(hidden_size)\n",
        "        self.params['W2'] = weight_init_std * np.random.randn(hidden_size,output_size)\n",
        "        self.params['b2'] = np.zeros(output_size)\n",
        "\n",
        "\n",
        "    def predict(self, x):\n",
        "        W1, W2 = self.params['W1'], self.params['W2']\n",
        "        b1,b2 = self.params['b1'], self.params['b2']\n",
        "\n",
        "        a1 = x @ W1 + b1\n",
        "        z1 = sigmoid(a1)\n",
        "\n",
        "        a2 = z1 @ W2 + b2\n",
        "        y = softmax(a2)\n",
        "\n",
        "        return y\n",
        "    \n",
        "    def loss(self, x, t):\n",
        "        y = self.predict(x)\n",
        "        return cross_entropy_error(y,t)\n",
        "    \n",
        "\n",
        "    def accuracy(self, x, t):\n",
        "        y = self.predict(x)\n",
        "        y = np.argmax(y, axis = 1)\n",
        "        t = np.argmax(t, axis = 1)\n",
        "\n",
        "        accuracy = np.sum(y == t) / float(x.shape[0])\n",
        "        return accuracy\n",
        "    \n",
        "    def numerical_gradient(self, x, t):\n",
        "        loss_W = lambda W: self.loss(x,t)\n",
        "\n",
        "        grads = {}\n",
        "        grads['W1'] = numerical_gradient(loss_W, self.params['W1'])\n",
        "        grads['b1'] = numerical_gradient(loss_W,self.params['b1'])\n",
        "        grads['W2'] = numerical_gradient(loss_W,self.params['W2'])\n",
        "        grads['b2'] = numerical_gradient(loss_W,self.params['b2'])\n",
        "\n",
        "        return grads\n",
        "    \n",
        "    \n",
        "        "
      ]
    },
    {
      "cell_type": "code",
      "execution_count": 7,
      "metadata": {},
      "outputs": [
        {
          "name": "stderr",
          "output_type": "stream",
          "text": [
            "  0%|          | 1/10000 [03:25<570:53:55, 205.54s/it]"
          ]
        },
        {
          "name": "stdout",
          "output_type": "stream",
          "text": [
            "0.10206666666666667 0.101\n",
            "2.2965078546140076\n"
          ]
        },
        {
          "name": "stderr",
          "output_type": "stream",
          "text": [
            "  0%|          | 5/10000 [17:19<577:04:19, 207.85s/it]\n"
          ]
        },
        {
          "ename": "KeyboardInterrupt",
          "evalue": "",
          "output_type": "error",
          "traceback": [
            "\u001b[0;31m---------------------------------------------------------------------------\u001b[0m",
            "\u001b[0;31mKeyboardInterrupt\u001b[0m                         Traceback (most recent call last)",
            "Cell \u001b[0;32mIn[7], line 28\u001b[0m\n\u001b[1;32m     25\u001b[0m t_batch \u001b[39m=\u001b[39m t_train[batch_mask]\n\u001b[1;32m     27\u001b[0m \u001b[39m# 기울기 계산\u001b[39;00m\n\u001b[0;32m---> 28\u001b[0m grad \u001b[39m=\u001b[39m network\u001b[39m.\u001b[39;49mnumerical_gradient(x_batch, t_batch)\n\u001b[1;32m     30\u001b[0m \u001b[39m# 매개변수 갱신\u001b[39;00m\n\u001b[1;32m     31\u001b[0m \u001b[39mfor\u001b[39;00m key \u001b[39min\u001b[39;00m (\u001b[39m'\u001b[39m\u001b[39mW1\u001b[39m\u001b[39m'\u001b[39m,\u001b[39m'\u001b[39m\u001b[39mb1\u001b[39m\u001b[39m'\u001b[39m,\u001b[39m'\u001b[39m\u001b[39mW2\u001b[39m\u001b[39m'\u001b[39m,\u001b[39m'\u001b[39m\u001b[39mb2\u001b[39m\u001b[39m'\u001b[39m):\n",
            "Cell \u001b[0;32mIn[6], line 39\u001b[0m, in \u001b[0;36mTwoLayerNet.numerical_gradient\u001b[0;34m(self, x, t)\u001b[0m\n\u001b[1;32m     36\u001b[0m loss_W \u001b[39m=\u001b[39m \u001b[39mlambda\u001b[39;00m W: \u001b[39mself\u001b[39m\u001b[39m.\u001b[39mloss(x,t)\n\u001b[1;32m     38\u001b[0m grads \u001b[39m=\u001b[39m {}\n\u001b[0;32m---> 39\u001b[0m grads[\u001b[39m'\u001b[39m\u001b[39mW1\u001b[39m\u001b[39m'\u001b[39m] \u001b[39m=\u001b[39m numerical_gradient(loss_W, \u001b[39mself\u001b[39;49m\u001b[39m.\u001b[39;49mparams[\u001b[39m'\u001b[39;49m\u001b[39mW1\u001b[39;49m\u001b[39m'\u001b[39;49m])\n\u001b[1;32m     40\u001b[0m grads[\u001b[39m'\u001b[39m\u001b[39mb1\u001b[39m\u001b[39m'\u001b[39m] \u001b[39m=\u001b[39m numerical_gradient(loss_W,\u001b[39mself\u001b[39m\u001b[39m.\u001b[39mparams[\u001b[39m'\u001b[39m\u001b[39mb1\u001b[39m\u001b[39m'\u001b[39m])\n\u001b[1;32m     41\u001b[0m grads[\u001b[39m'\u001b[39m\u001b[39mW2\u001b[39m\u001b[39m'\u001b[39m] \u001b[39m=\u001b[39m numerical_gradient(loss_W,\u001b[39mself\u001b[39m\u001b[39m.\u001b[39mparams[\u001b[39m'\u001b[39m\u001b[39mW2\u001b[39m\u001b[39m'\u001b[39m])\n",
            "File \u001b[0;32m~/Desktop/DeepLearning101/DeepLearning01/04. 신경망 학습/../common/gradient.py:43\u001b[0m, in \u001b[0;36mnumerical_gradient\u001b[0;34m(f, x)\u001b[0m\n\u001b[1;32m     41\u001b[0m tmp_val \u001b[39m=\u001b[39m x[idx]\n\u001b[1;32m     42\u001b[0m x[idx] \u001b[39m=\u001b[39m \u001b[39mfloat\u001b[39m(tmp_val) \u001b[39m+\u001b[39m h\n\u001b[0;32m---> 43\u001b[0m fxh1 \u001b[39m=\u001b[39m f(x)  \u001b[39m# f(x+h)\u001b[39;00m\n\u001b[1;32m     45\u001b[0m x[idx] \u001b[39m=\u001b[39m tmp_val \u001b[39m-\u001b[39m h\n\u001b[1;32m     46\u001b[0m fxh2 \u001b[39m=\u001b[39m f(x)  \u001b[39m# f(x-h)\u001b[39;00m\n",
            "Cell \u001b[0;32mIn[6], line 36\u001b[0m, in \u001b[0;36mTwoLayerNet.numerical_gradient.<locals>.<lambda>\u001b[0;34m(W)\u001b[0m\n\u001b[1;32m     35\u001b[0m \u001b[39mdef\u001b[39;00m \u001b[39mnumerical_gradient\u001b[39m(\u001b[39mself\u001b[39m, x, t):\n\u001b[0;32m---> 36\u001b[0m     loss_W \u001b[39m=\u001b[39m \u001b[39mlambda\u001b[39;00m W: \u001b[39mself\u001b[39;49m\u001b[39m.\u001b[39;49mloss(x,t)\n\u001b[1;32m     38\u001b[0m     grads \u001b[39m=\u001b[39m {}\n\u001b[1;32m     39\u001b[0m     grads[\u001b[39m'\u001b[39m\u001b[39mW1\u001b[39m\u001b[39m'\u001b[39m] \u001b[39m=\u001b[39m numerical_gradient(loss_W, \u001b[39mself\u001b[39m\u001b[39m.\u001b[39mparams[\u001b[39m'\u001b[39m\u001b[39mW1\u001b[39m\u001b[39m'\u001b[39m])\n",
            "Cell \u001b[0;32mIn[6], line 23\u001b[0m, in \u001b[0;36mTwoLayerNet.loss\u001b[0;34m(self, x, t)\u001b[0m\n\u001b[1;32m     22\u001b[0m \u001b[39mdef\u001b[39;00m \u001b[39mloss\u001b[39m(\u001b[39mself\u001b[39m, x, t):\n\u001b[0;32m---> 23\u001b[0m     y \u001b[39m=\u001b[39m \u001b[39mself\u001b[39;49m\u001b[39m.\u001b[39;49mpredict(x)\n\u001b[1;32m     24\u001b[0m     \u001b[39mreturn\u001b[39;00m cross_entropy_error(y,t)\n",
            "Cell \u001b[0;32mIn[6], line 14\u001b[0m, in \u001b[0;36mTwoLayerNet.predict\u001b[0;34m(self, x)\u001b[0m\n\u001b[1;32m     11\u001b[0m W1, W2 \u001b[39m=\u001b[39m \u001b[39mself\u001b[39m\u001b[39m.\u001b[39mparams[\u001b[39m'\u001b[39m\u001b[39mW1\u001b[39m\u001b[39m'\u001b[39m], \u001b[39mself\u001b[39m\u001b[39m.\u001b[39mparams[\u001b[39m'\u001b[39m\u001b[39mW2\u001b[39m\u001b[39m'\u001b[39m]\n\u001b[1;32m     12\u001b[0m b1,b2 \u001b[39m=\u001b[39m \u001b[39mself\u001b[39m\u001b[39m.\u001b[39mparams[\u001b[39m'\u001b[39m\u001b[39mb1\u001b[39m\u001b[39m'\u001b[39m], \u001b[39mself\u001b[39m\u001b[39m.\u001b[39mparams[\u001b[39m'\u001b[39m\u001b[39mb2\u001b[39m\u001b[39m'\u001b[39m]\n\u001b[0;32m---> 14\u001b[0m a1 \u001b[39m=\u001b[39m x \u001b[39m@\u001b[39;49m W1 \u001b[39m+\u001b[39m b1\n\u001b[1;32m     15\u001b[0m z1 \u001b[39m=\u001b[39m sigmoid(a1)\n\u001b[1;32m     17\u001b[0m a2 \u001b[39m=\u001b[39m z1 \u001b[39m@\u001b[39m W2 \u001b[39m+\u001b[39m b2\n",
            "\u001b[0;31mKeyboardInterrupt\u001b[0m: "
          ]
        }
      ],
      "source": [
        "from dataset.mnist import load_mnist\n",
        "from tqdm import tqdm\n",
        "\n",
        "(x_train, t_train), (x_test, t_test) = load_mnist(normalize = True, one_hot_label = True)\n",
        "\n",
        "train_loss_list = []\n",
        "train_acc_list = []\n",
        "test_acc_list = []\n",
        "\n",
        "iters_num = 10000\n",
        "train_size = x_train.shape[0]\n",
        "batch_size = 100\n",
        "learning_rate = 0.1\n",
        "\n",
        "\n",
        "iter_per_epoch = max(train_size / batch_size, 1)\n",
        "\n",
        "\n",
        "network = TwoLayerNet(input_size = 784, hidden_size = 50, output_size = 10)\n",
        "\n",
        "for i in tqdm(range(iters_num)):\n",
        "    # 미니배치 획득\n",
        "    batch_mask = np.random.choice(train_size, batch_size)\n",
        "    x_batch = x_train[batch_mask]\n",
        "    t_batch = t_train[batch_mask]\n",
        "\n",
        "    # 기울기 계산\n",
        "    grad = network.numerical_gradient(x_batch, t_batch) # 오래 걸린다.\n",
        "\n",
        "    # 매개변수 갱신\n",
        "    for key in ('W1','b1','W2','b2'):\n",
        "        network.params[key] -= learning_rate * grad[key]\n",
        "\n",
        "    # loss 기록\n",
        "    loss = network.loss(x_batch, t_batch)\n",
        "    train_loss_list.append(loss)\n",
        "\n",
        "    if i % iter_per_epoch == 0:\n",
        "        train_acc = network.accuracy(x_train,t_train)\n",
        "        test_acc = network.accuracy(x_test,t_test)\n",
        "        train_acc_list.append(train_acc)\n",
        "        test_acc_list.append(test_acc)\n",
        "        print(train_acc, test_acc)\n",
        "    \n",
        "    if i % 100 ==0:\n",
        "        print(loss)\n",
        "\n"
      ]
    },
    {
      "cell_type": "code",
      "execution_count": null,
      "metadata": {},
      "outputs": [],
      "source": []
    }
  ],
  "metadata": {
    "colab": {
      "provenance": []
    },
    "kernelspec": {
      "display_name": "Python 3",
      "name": "python3"
    },
    "language_info": {
      "codemirror_mode": {
        "name": "ipython",
        "version": 3
      },
      "file_extension": ".py",
      "mimetype": "text/x-python",
      "name": "python",
      "nbconvert_exporter": "python",
      "pygments_lexer": "ipython3",
      "version": "3.9.16"
    }
  },
  "nbformat": 4,
  "nbformat_minor": 0
}
